{
 "cells": [
  {
   "cell_type": "markdown",
   "id": "84fdf553",
   "metadata": {},
   "source": [
    "# NODE A"
   ]
  },
  {
   "cell_type": "markdown",
   "id": "620384ae",
   "metadata": {},
   "source": [
    "Starting from the second assignment of the course, create a jupyter notebook to replace the user interface"
   ]
  },
  {
   "cell_type": "code",
   "execution_count": null,
   "id": "6fa5506b",
   "metadata": {},
   "outputs": [],
   "source": [
    "%matplotlib widget\n",
    "import ipywidgets as widgets\n",
    "import jupyros as jr\n",
    "from IPython.display import display\n",
    "import rospy\n",
    "import actionlib\n",
    "import assignment_2_2023\n",
    "import assignment_2_2023.msg\n",
    "from nav_msgs. msg import Odometry\n",
    "from assignment_2_2023.msg import PlanningAction, PlanningActionGoal, PlanningActionResult\n",
    "from actionlib_msgs.msg import GoalStatusArray\n",
    "\n",
    "import matplotlib.pyplot as plt \n",
    "import rospy\n",
    "import tf\n",
    "from nav_msgs.msg import Odometry\n",
    "from tf.transformations import quaternion_matrix \n",
    "import numpy as np\n",
    "from matplotlib.animation import FuncAnimation\n",
    "\n",
    "from IPython.display import clear_output\n",
    "import time\n",
    "import sys"
   ]
  },
  {
   "cell_type": "code",
   "execution_count": null,
   "id": "433ee9bb",
   "metadata": {},
   "outputs": [],
   "source": [
    "#global variables\n",
    "goal_x = 200\n",
    "goal_y = 200\n",
    "goal_reached = []\n",
    "goal_unreached = 0\n",
    "canc = 0"
   ]
  },
  {
   "cell_type": "code",
   "execution_count": null,
   "id": "ad13a3f5",
   "metadata": {},
   "outputs": [],
   "source": [
    "class Visualiser:\n",
    "    def __init__(self):\n",
    "        self.fig, self.ax = plt.subplots()\n",
    "        self.ln, = plt.plot([], [], 'ro')\n",
    "        self.ln_goal, = plt.plot([], [], '*')\n",
    "        self.x_data, self.y_data = [] , []\n",
    "        self.goal_x, self.goal_y = [] , []\n",
    "\n",
    "    def plot_init(self):\n",
    "        self.ax.set_xlim(-10, 10)\n",
    "        self.ax.set_ylim(-10, 10)\n",
    "        return self.ln, self.ln_goal,\n",
    "\n",
    "    def odom_callback(self, msg):\n",
    "        global goal_reached, goal_unreached\n",
    "        global goal_x, goal_y, canc\n",
    "        #save the actual pose\n",
    "        self.y_data.append(msg.pose.pose.position.y) \n",
    "        self.x_data.append(msg.pose.pose.position.x)\n",
    "        \n",
    "        if (self.goal_x and self.goal_y): #if the lists exist\n",
    "            if(self.goal_x[-1] != goal_x or self.goal_y[-1] != goal_y): #if the goal is not the last added to the list\n",
    "                self.goal_x.append(goal_x) #add goal to the list of goal\n",
    "                self.goal_y.append(goal_y)\n",
    "        else:                             #if the lists don't exist\n",
    "            self.goal_x.append(goal_x)\n",
    "            self.goal_y.append(goal_y)\n",
    "        #if the goal has been reached update the plot    \n",
    "        if (abs(goal_x - msg.pose.pose.position.x) <= 0.5 and abs(goal_y - msg.pose.pose.position.y) <= 0.5 and (len(goal_reached) == 0 or (goal_x != goal_reached[-1][0] or goal_y != goal_reached[-1][1]))):\n",
    "            goal_reached.append([goal_x, goal_y])\n",
    "            update_chart()\n",
    "        #if the goal has been cancelled remove it from the list\n",
    "        if (goal_unreached == canc +1):\n",
    "            self.goal_x.pop()\n",
    "            self.goal_y.pop()\n",
    "            canc += 1\n",
    "        \n",
    "\n",
    "    def update_plot(self, frame):\n",
    "        self.ln.set_data(self.x_data, self.y_data)\n",
    "        self.ln_goal.set_data(self.goal_x, self.goal_y)\n",
    "        return self.ln, self.ln_goal"
   ]
  },
  {
   "cell_type": "code",
   "execution_count": null,
   "id": "ecf67195",
   "metadata": {},
   "outputs": [],
   "source": [
    "#initialization\n",
    "rospy.init_node(\"assignment_2_2024\")\n",
    "\n",
    "#action client\n",
    "ac = actionlib.SimpleActionClient(\"/reaching_goal\",assignment_2_2023.msg.PlanningAction)\n",
    "ac.wait_for_server()\n",
    "\n",
    "#set goal\n",
    "goal = assignment_2_2023.msg.PlanningGoal()\n",
    "\n",
    "#variables storing number of reached/not-reached goal\n",
    "global goal_reached, goal_unreached\n",
    "\n",
    "\n",
    "#Text input fields for coordinates\n",
    "x_input = widgets.FloatText(value=0.0, description='X Coordinate:', continuous_update=True)\n",
    "y_input = widgets.FloatText(value = 0.0, description='Y Coordinate:', continuous_update=True)\n",
    "\n",
    "#Button to submit coordinates\n",
    "submit_button = widgets.Button(description='Submit Coordinates')\n",
    "\n",
    "#Button for delete the cordinate\n",
    "delete_button = widgets.Button(description='Delete Coordinates')\n",
    "\n",
    "#Display the widgets\n",
    "vbox = widgets.VBox([x_input, y_input, submit_button, delete_button])\n",
    "display(vbox)\n",
    "\n",
    "# Define functions to handle buttons click\n",
    "def on_submit_button_clicked(b):\n",
    "    global goal_x\n",
    "    global goal_y\n",
    "    #acquire goal's coordinates\n",
    "    goal_x = x_input.value\n",
    "    goal_y = y_input.value\n",
    "    \n",
    "    #send goal's coordinates\n",
    "    goal.target_pose.pose.position.x = goal_x\n",
    "    goal.target_pose.pose.position.y = goal_y\n",
    "    \n",
    "    ac.send_goal(goal)\n",
    "\n",
    "    sys.stdout.write('Submitting coordinates...')  # Scrive l'output\n",
    "    sys.stdout.flush()\n",
    "    while (ac.get_state() != actionlib.GoalStatus.ACTIVE):{}\n",
    "    sys.stdout.write('\\rCoordinates submitted    ')  # Sovrascrive l'output precedente\n",
    "    sys.stdout.flush()\n",
    "    print()\n",
    "    \n",
    "    \n",
    "    \n",
    "def on_delete_button_clicked(b):\n",
    "    global goal_unreached\n",
    "    if ac.get_state() == actionlib.GoalStatus.ACTIVE:\n",
    "        ac.cancel_goal()\n",
    "        print('Goal cancelled')\n",
    "        goal_unreached += 1\n",
    "        update_chart()\n",
    "    else:\n",
    "        print('There is no active goal to cancel')\n",
    "\n",
    "    \n",
    "#link the functions to the buttons\n",
    "submit_button.on_click(on_submit_button_clicked)\n",
    "delete_button.on_click(on_delete_button_clicked)\n",
    "\n"
   ]
  },
  {
   "cell_type": "code",
   "execution_count": null,
   "id": "21fd5eec",
   "metadata": {},
   "outputs": [],
   "source": [
    "%matplotlib widget\n",
    "vis = Visualiser()\n",
    "sub = rospy.Subscriber('/odom',  Odometry, vis.odom_callback)\n",
    "ani = FuncAnimation(vis.fig, vis.update_plot, init_func=vis.plot_init) \n",
    "plt.show(block=True)\n"
   ]
  },
  {
   "cell_type": "code",
   "execution_count": null,
   "id": "f54d1342",
   "metadata": {},
   "outputs": [],
   "source": [
    "#variables storing number of reached/not-reached goal\n",
    "global goal_reached, goal_unreached\n",
    "\n",
    "plt.figure()\n",
    "def update_chart():\n",
    "    categories = ['Reached', 'Cancelled']\n",
    "    reached = len(goal_reached)\n",
    "    values = [reached, goal_unreached]\n",
    "\n",
    "    plt.bar(categories, values, color=['blue', 'red'])\n",
    "    plt.xlabel('Goal Status')\n",
    "    plt.ylabel('Count')\n",
    "    plt.title('Goal Status Bar Chart')\n",
    "    plt.show()"
   ]
  },
  {
   "cell_type": "code",
   "execution_count": null,
   "id": "b681303d",
   "metadata": {},
   "outputs": [],
   "source": []
  }
 ],
 "metadata": {
  "kernelspec": {
   "display_name": "Python 3 (ipykernel)",
   "language": "python",
   "name": "python3"
  },
  "language_info": {
   "codemirror_mode": {
    "name": "ipython",
    "version": 3
   },
   "file_extension": ".py",
   "mimetype": "text/x-python",
   "name": "python",
   "nbconvert_exporter": "python",
   "pygments_lexer": "ipython3",
   "version": "3.8.5"
  },
  "varInspector": {
   "cols": {
    "lenName": 16,
    "lenType": 16,
    "lenVar": 40
   },
   "kernels_config": {
    "python": {
     "delete_cmd_postfix": "",
     "delete_cmd_prefix": "del ",
     "library": "var_list.py",
     "varRefreshCmd": "print(var_dic_list())"
    },
    "r": {
     "delete_cmd_postfix": ") ",
     "delete_cmd_prefix": "rm(",
     "library": "var_list.r",
     "varRefreshCmd": "cat(var_dic_list()) "
    }
   },
   "types_to_exclude": [
    "module",
    "function",
    "builtin_function_or_method",
    "instance",
    "_Feature"
   ],
   "window_display": false
  }
 },
 "nbformat": 4,
 "nbformat_minor": 5
}
