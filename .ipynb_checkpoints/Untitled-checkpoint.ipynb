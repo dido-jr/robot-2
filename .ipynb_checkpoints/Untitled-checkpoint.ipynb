{
 "cells": [
  {
   "cell_type": "markdown",
   "id": "84fdf553",
   "metadata": {},
   "source": [
    "# NODE A"
   ]
  },
  {
   "cell_type": "markdown",
   "id": "620384ae",
   "metadata": {},
   "source": [
    "Starting from the second assignment of the course, create a jupyter notebook to replace the user interface"
   ]
  },
  {
   "cell_type": "code",
   "execution_count": 9,
   "id": "6fa5506b",
   "metadata": {},
   "outputs": [],
   "source": [
    "%matplotlib widget\n",
    "import ipywidgets as widgets\n",
    "import jupyros as jr\n",
    "from IPython.display import display\n",
    "import rospy\n",
    "import actionlib\n",
    "import assignment_2_2023\n",
    "import assignment_2_2023.msg\n",
    "from nav_msgs. msg import Odometry\n",
    "from assignment_2_2023.msg import PlanningAction, PlanningActionGoal\n",
    "from actionlib_msgs.msg import GoalStatusArray\n",
    "\n",
    "import matplotlib.pyplot as plt \n",
    "import rospy\n",
    "import tf\n",
    "from nav_msgs.msg import Odometry\n",
    "from tf.transformations import quaternion_matrix \n",
    "import numpy as np\n",
    "from matplotlib.animation import FuncAnimation\n",
    "\n",
    "from IPython.display import clear_output\n",
    "import time\n",
    "import sys"
   ]
  },
  {
   "cell_type": "code",
   "execution_count": 2,
   "id": "ad13a3f5",
   "metadata": {},
   "outputs": [],
   "source": [
    "class Visualiser:\n",
    "    def __init__(self):\n",
    "        self.fig, self.ax = plt.subplots()\n",
    "        self.ln, = plt.plot([], [], 'ro')\n",
    "        self.x_data, self.y_data = [] , []\n",
    "\n",
    "    def plot_init(self):\n",
    "        self.ax.set_xlim(0, 10)\n",
    "        self.ax.set_ylim(0, 10)\n",
    "        return self.ln,\n",
    "\n",
    "    def odom_callback(self, msg):\n",
    "        self.y_data.append(msg.pose.pose.position.y)\n",
    "        self.x_data.append(msg.pose.pose.position.x)\n",
    "        self.ln.set_data(self.x_data, self.y_data)\n",
    "        \n",
    "\n",
    "    def update_plot(self, frame):\n",
    "        self.ln.set_data(self.x_data, self.y_data)\n",
    "        return self.ln,"
   ]
  },
  {
   "cell_type": "code",
   "execution_count": 3,
   "id": "ecf67195",
   "metadata": {},
   "outputs": [
    {
     "data": {
      "application/vnd.jupyter.widget-view+json": {
       "model_id": "04c6436d82c542d18fa14fd21daa44a3",
       "version_major": 2,
       "version_minor": 0
      },
      "text/plain": [
       "VBox(children=(FloatText(value=0.0, description='X Coordinate:'), FloatText(value=0.0, description='Y Coordina…"
      ]
     },
     "metadata": {},
     "output_type": "display_data"
    },
    {
     "name": "stdout",
     "output_type": "stream",
     "text": [
      "Coordinates submitted    \n",
      "Reaching the goal...\n"
     ]
    }
   ],
   "source": [
    "#initialization\n",
    "rospy.init_node(\"assignment_2_2024\")\n",
    "\n",
    "#variables storing number of reached/not-reached goal\n",
    "reached_goal = 0\n",
    "not_reached_goal = 0\n",
    "\n",
    "#action client\n",
    "ac = actionlib.SimpleActionClient(\"/reaching_goal\",assignment_2_2023.msg.PlanningAction)\n",
    "ac.wait_for_server()\n",
    "\n",
    "#set goal\n",
    "goal = assignment_2_2023.msg.PlanningGoal()\n",
    "\n",
    "#Text input fields for coordinates\n",
    "x_input = widgets.FloatText(value=0.0, description='X Coordinate:')\n",
    "y_input = widgets.FloatText(value=0.0, description='Y Coordinate:')\n",
    "\n",
    "#Button to submit coordinates\n",
    "submit_button = widgets.Button(description='Submit Coordinates')\n",
    "\n",
    "#Button for delete the cordinate\n",
    "delete_button = widgets.Button(description='Delete Coordinates')\n",
    "\n",
    "#Display the widgets\n",
    "vbox = widgets.VBox([x_input, y_input, submit_button, delete_button])\n",
    "display(vbox)\n",
    "\n",
    "# Define functions to handle buttons click\n",
    "def on_submit_button_clicked(b):\n",
    "    #variables storing number of reache/not-reache goal\n",
    "    global reached_goal\n",
    "    global not_reached_goal\n",
    "    \n",
    "    #acquire goal's coordinates\n",
    "    x = x_input.value\n",
    "    y = y_input.value\n",
    "    \n",
    "    #send goal's coordinates\n",
    "    goal.target_pose.pose.position.x = x\n",
    "    goal.target_pose.pose.position.y = y\n",
    "    \n",
    "    ac.send_goal(goal)\n",
    "    #print('Submitting coordinates...')\n",
    "    sys.stdout.write('Submitting coordinates...')  # Scrive l'output\n",
    "    sys.stdout.flush()\n",
    "    while (ac.get_state() != actionlib.GoalStatus.ACTIVE):{}\n",
    "    #print('Coordinates submitted')\n",
    "    sys.stdout.write('\\rCoordinates submitted    ')  # Sovrascrive l'output precedente\n",
    "    sys.stdout.flush()\n",
    "    print()\n",
    "    \n",
    "    print('Reaching the goal...')\n",
    "    \n",
    "    #check the result\n",
    "    #ac.wait_for_result()\n",
    "    #if(ac.get_state() == actionlib.GoalStatus.SUCCEEDED):\n",
    "    #    print('Goal reached!')\n",
    "    #   reached_goal = reached_goal + 1\n",
    "    #else:\n",
    "    #    not_reached_goal = not_reached_goal + 1\n",
    "    \n",
    "    \n",
    "\n",
    "    \n",
    "def on_delete_button_clicked(b):\n",
    "    global not_reached_goal\n",
    "    \n",
    "    if ac.get_state() == actionlib.GoalStatus.ACTIVE:\n",
    "        ac.cancel_goal()\n",
    "        print('Goal cancelled')\n",
    "    else:\n",
    "        print('There is no active goal to cancel')\n",
    "\n",
    "    not_reached_goal = not_reached_goal + 1\n",
    "    \n",
    "#link the functions to the buttons\n",
    "submit_button.on_click(on_submit_button_clicked)\n",
    "delete_button.on_click(on_delete_button_clicked)\n",
    "\n"
   ]
  },
  {
   "cell_type": "code",
   "execution_count": 4,
   "id": "21fd5eec",
   "metadata": {},
   "outputs": [
    {
     "data": {
      "application/vnd.jupyter.widget-view+json": {
       "model_id": "08784e849ea745d1853b0977108cb8bf",
       "version_major": 2,
       "version_minor": 0
      },
      "text/plain": [
       "Canvas(toolbar=Toolbar(toolitems=[('Home', 'Reset original view', 'home', 'home'), ('Back', 'Back to previous …"
      ]
     },
     "metadata": {},
     "output_type": "display_data"
    }
   ],
   "source": [
    "%matplotlib widget\n",
    "vis = Visualiser()\n",
    "sub = rospy.Subscriber('/odom',  Odometry, vis.odom_callback)\n",
    "ani = FuncAnimation(vis.fig, vis.update_plot, init_func=vis.plot_init) \n",
    "plt.show(block=True)\n"
   ]
  },
  {
   "cell_type": "code",
   "execution_count": 14,
   "id": "225f5aaa",
   "metadata": {},
   "outputs": [
    {
     "name": "stdout",
     "output_type": "stream",
     "text": [
      "ciao\n",
      "[]\n"
     ]
    }
   ],
   "source": [
    "def callback(msg):\n",
    "    print(msg.status_list)\n",
    "    \n",
    "    \n",
    "goal_sub = rospy.Subscriber('/reaching_goal/status', GoalStatusArray, callback)"
   ]
  },
  {
   "cell_type": "code",
   "execution_count": null,
   "id": "d5b8f111",
   "metadata": {},
   "outputs": [],
   "source": []
  }
 ],
 "metadata": {
  "kernelspec": {
   "display_name": "Python 3 (ipykernel)",
   "language": "python",
   "name": "python3"
  },
  "language_info": {
   "codemirror_mode": {
    "name": "ipython",
    "version": 3
   },
   "file_extension": ".py",
   "mimetype": "text/x-python",
   "name": "python",
   "nbconvert_exporter": "python",
   "pygments_lexer": "ipython3",
   "version": "3.8.5"
  },
  "varInspector": {
   "cols": {
    "lenName": 16,
    "lenType": 16,
    "lenVar": 40
   },
   "kernels_config": {
    "python": {
     "delete_cmd_postfix": "",
     "delete_cmd_prefix": "del ",
     "library": "var_list.py",
     "varRefreshCmd": "print(var_dic_list())"
    },
    "r": {
     "delete_cmd_postfix": ") ",
     "delete_cmd_prefix": "rm(",
     "library": "var_list.r",
     "varRefreshCmd": "cat(var_dic_list()) "
    }
   },
   "types_to_exclude": [
    "module",
    "function",
    "builtin_function_or_method",
    "instance",
    "_Feature"
   ],
   "window_display": false
  }
 },
 "nbformat": 4,
 "nbformat_minor": 5
}
